{
 "cells": [
  {
   "cell_type": "code",
   "execution_count": 54,
   "id": "884bdd31-6d77-4374-b255-6ba7fd6f5fe4",
   "metadata": {},
   "outputs": [],
   "source": [
    "%%capture\n",
    "%pip install --user numpy pandas scikit-learn matplotlib;"
   ]
  },
  {
   "cell_type": "markdown",
   "id": "fcd0eb7b-de8f-4762-908a-ce70e1e4f1d8",
   "metadata": {},
   "source": [
    "### Importing packages"
   ]
  },
  {
   "cell_type": "code",
   "execution_count": 55,
   "id": "9f3a3420-f3e9-477a-84fd-ff088cc5662e",
   "metadata": {},
   "outputs": [],
   "source": [
    "import numpy as np\n",
    "import pandas as pd\n",
    "from sklearn.model_selection import train_test_split, cross_validate\n",
    "from sklearn.preprocessing import MinMaxScaler\n",
    "from sklearn.metrics import accuracy_score, confusion_matrix, f1_score\n",
    "import matplotlib.pyplot as plt\n",
    "pd.set_option('float_format', '{:.2f}'.format)"
   ]
  },
  {
   "cell_type": "markdown",
   "id": "31f7a4fe-2fcf-4c72-9342-73480da774f4",
   "metadata": {},
   "source": [
    "### Loading data"
   ]
  },
  {
   "cell_type": "code",
   "execution_count": 56,
   "id": "6ad69a1a-8d91-4a3b-b82c-d9d466287492",
   "metadata": {},
   "outputs": [
    {
     "data": {
      "text/html": [
       "<div>\n",
       "<style scoped>\n",
       "    .dataframe tbody tr th:only-of-type {\n",
       "        vertical-align: middle;\n",
       "    }\n",
       "\n",
       "    .dataframe tbody tr th {\n",
       "        vertical-align: top;\n",
       "    }\n",
       "\n",
       "    .dataframe thead th {\n",
       "        text-align: right;\n",
       "    }\n",
       "</style>\n",
       "<table border=\"1\" class=\"dataframe\">\n",
       "  <thead>\n",
       "    <tr style=\"text-align: right;\">\n",
       "      <th></th>\n",
       "      <th>Number of pregnancies</th>\n",
       "      <th>Glucose</th>\n",
       "      <th>Blood Pressure</th>\n",
       "      <th>Skin thickness</th>\n",
       "      <th>Insulin</th>\n",
       "      <th>BMI</th>\n",
       "      <th>Inheritance</th>\n",
       "      <th>Age</th>\n",
       "      <th>Has Diabetes</th>\n",
       "    </tr>\n",
       "  </thead>\n",
       "  <tbody>\n",
       "    <tr>\n",
       "      <th>3</th>\n",
       "      <td>1</td>\n",
       "      <td>89.00</td>\n",
       "      <td>66.00</td>\n",
       "      <td>23.00</td>\n",
       "      <td>94.00</td>\n",
       "      <td>28.10</td>\n",
       "      <td>0.17</td>\n",
       "      <td>21</td>\n",
       "      <td>0</td>\n",
       "    </tr>\n",
       "    <tr>\n",
       "      <th>4</th>\n",
       "      <td>0</td>\n",
       "      <td>137.00</td>\n",
       "      <td>40.00</td>\n",
       "      <td>35.00</td>\n",
       "      <td>168.00</td>\n",
       "      <td>43.10</td>\n",
       "      <td>2.29</td>\n",
       "      <td>33</td>\n",
       "      <td>1</td>\n",
       "    </tr>\n",
       "    <tr>\n",
       "      <th>6</th>\n",
       "      <td>3</td>\n",
       "      <td>78.00</td>\n",
       "      <td>50.00</td>\n",
       "      <td>32.00</td>\n",
       "      <td>88.00</td>\n",
       "      <td>31.00</td>\n",
       "      <td>0.25</td>\n",
       "      <td>26</td>\n",
       "      <td>1</td>\n",
       "    </tr>\n",
       "    <tr>\n",
       "      <th>8</th>\n",
       "      <td>2</td>\n",
       "      <td>197.00</td>\n",
       "      <td>70.00</td>\n",
       "      <td>45.00</td>\n",
       "      <td>543.00</td>\n",
       "      <td>30.50</td>\n",
       "      <td>0.16</td>\n",
       "      <td>53</td>\n",
       "      <td>1</td>\n",
       "    </tr>\n",
       "    <tr>\n",
       "      <th>13</th>\n",
       "      <td>1</td>\n",
       "      <td>189.00</td>\n",
       "      <td>60.00</td>\n",
       "      <td>23.00</td>\n",
       "      <td>846.00</td>\n",
       "      <td>30.10</td>\n",
       "      <td>0.40</td>\n",
       "      <td>59</td>\n",
       "      <td>1</td>\n",
       "    </tr>\n",
       "  </tbody>\n",
       "</table>\n",
       "</div>"
      ],
      "text/plain": [
       "    Number of pregnancies  Glucose  Blood Pressure  Skin thickness  Insulin  \\\n",
       "3                       1    89.00           66.00           23.00    94.00   \n",
       "4                       0   137.00           40.00           35.00   168.00   \n",
       "6                       3    78.00           50.00           32.00    88.00   \n",
       "8                       2   197.00           70.00           45.00   543.00   \n",
       "13                      1   189.00           60.00           23.00   846.00   \n",
       "\n",
       "     BMI  Inheritance  Age  Has Diabetes  \n",
       "3  28.10         0.17   21             0  \n",
       "4  43.10         2.29   33             1  \n",
       "6  31.00         0.25   26             1  \n",
       "8  30.50         0.16   53             1  \n",
       "13 30.10         0.40   59             1  "
      ]
     },
     "metadata": {},
     "output_type": "display_data"
    },
    {
     "data": {
      "text/html": [
       "<div>\n",
       "<style scoped>\n",
       "    .dataframe tbody tr th:only-of-type {\n",
       "        vertical-align: middle;\n",
       "    }\n",
       "\n",
       "    .dataframe tbody tr th {\n",
       "        vertical-align: top;\n",
       "    }\n",
       "\n",
       "    .dataframe thead th {\n",
       "        text-align: right;\n",
       "    }\n",
       "</style>\n",
       "<table border=\"1\" class=\"dataframe\">\n",
       "  <thead>\n",
       "    <tr style=\"text-align: right;\">\n",
       "      <th></th>\n",
       "      <th>Number of pregnancies</th>\n",
       "      <th>Glucose</th>\n",
       "      <th>Blood Pressure</th>\n",
       "      <th>Skin thickness</th>\n",
       "      <th>Insulin</th>\n",
       "      <th>BMI</th>\n",
       "      <th>Inheritance</th>\n",
       "      <th>Age</th>\n",
       "      <th>Has Diabetes</th>\n",
       "    </tr>\n",
       "  </thead>\n",
       "  <tbody>\n",
       "    <tr>\n",
       "      <th>count</th>\n",
       "      <td>392.00</td>\n",
       "      <td>392.00</td>\n",
       "      <td>392.00</td>\n",
       "      <td>392.00</td>\n",
       "      <td>392.00</td>\n",
       "      <td>392.00</td>\n",
       "      <td>392.00</td>\n",
       "      <td>392.00</td>\n",
       "      <td>392.00</td>\n",
       "    </tr>\n",
       "    <tr>\n",
       "      <th>mean</th>\n",
       "      <td>3.30</td>\n",
       "      <td>122.63</td>\n",
       "      <td>70.66</td>\n",
       "      <td>29.15</td>\n",
       "      <td>156.06</td>\n",
       "      <td>33.09</td>\n",
       "      <td>0.52</td>\n",
       "      <td>30.86</td>\n",
       "      <td>0.33</td>\n",
       "    </tr>\n",
       "    <tr>\n",
       "      <th>std</th>\n",
       "      <td>3.21</td>\n",
       "      <td>30.86</td>\n",
       "      <td>12.50</td>\n",
       "      <td>10.52</td>\n",
       "      <td>118.84</td>\n",
       "      <td>7.03</td>\n",
       "      <td>0.35</td>\n",
       "      <td>10.20</td>\n",
       "      <td>0.47</td>\n",
       "    </tr>\n",
       "    <tr>\n",
       "      <th>min</th>\n",
       "      <td>0.00</td>\n",
       "      <td>56.00</td>\n",
       "      <td>24.00</td>\n",
       "      <td>7.00</td>\n",
       "      <td>14.00</td>\n",
       "      <td>18.20</td>\n",
       "      <td>0.09</td>\n",
       "      <td>21.00</td>\n",
       "      <td>0.00</td>\n",
       "    </tr>\n",
       "    <tr>\n",
       "      <th>25%</th>\n",
       "      <td>1.00</td>\n",
       "      <td>99.00</td>\n",
       "      <td>62.00</td>\n",
       "      <td>21.00</td>\n",
       "      <td>76.75</td>\n",
       "      <td>28.40</td>\n",
       "      <td>0.27</td>\n",
       "      <td>23.00</td>\n",
       "      <td>0.00</td>\n",
       "    </tr>\n",
       "    <tr>\n",
       "      <th>50%</th>\n",
       "      <td>2.00</td>\n",
       "      <td>119.00</td>\n",
       "      <td>70.00</td>\n",
       "      <td>29.00</td>\n",
       "      <td>125.50</td>\n",
       "      <td>33.20</td>\n",
       "      <td>0.45</td>\n",
       "      <td>27.00</td>\n",
       "      <td>0.00</td>\n",
       "    </tr>\n",
       "    <tr>\n",
       "      <th>75%</th>\n",
       "      <td>5.00</td>\n",
       "      <td>143.00</td>\n",
       "      <td>78.00</td>\n",
       "      <td>37.00</td>\n",
       "      <td>190.00</td>\n",
       "      <td>37.10</td>\n",
       "      <td>0.69</td>\n",
       "      <td>36.00</td>\n",
       "      <td>1.00</td>\n",
       "    </tr>\n",
       "    <tr>\n",
       "      <th>max</th>\n",
       "      <td>17.00</td>\n",
       "      <td>198.00</td>\n",
       "      <td>110.00</td>\n",
       "      <td>63.00</td>\n",
       "      <td>846.00</td>\n",
       "      <td>67.10</td>\n",
       "      <td>2.42</td>\n",
       "      <td>81.00</td>\n",
       "      <td>1.00</td>\n",
       "    </tr>\n",
       "  </tbody>\n",
       "</table>\n",
       "</div>"
      ],
      "text/plain": [
       "       Number of pregnancies  Glucose  Blood Pressure  Skin thickness  \\\n",
       "count                 392.00   392.00          392.00          392.00   \n",
       "mean                    3.30   122.63           70.66           29.15   \n",
       "std                     3.21    30.86           12.50           10.52   \n",
       "min                     0.00    56.00           24.00            7.00   \n",
       "25%                     1.00    99.00           62.00           21.00   \n",
       "50%                     2.00   119.00           70.00           29.00   \n",
       "75%                     5.00   143.00           78.00           37.00   \n",
       "max                    17.00   198.00          110.00           63.00   \n",
       "\n",
       "       Insulin    BMI  Inheritance    Age  Has Diabetes  \n",
       "count   392.00 392.00       392.00 392.00        392.00  \n",
       "mean    156.06  33.09         0.52  30.86          0.33  \n",
       "std     118.84   7.03         0.35  10.20          0.47  \n",
       "min      14.00  18.20         0.09  21.00          0.00  \n",
       "25%      76.75  28.40         0.27  23.00          0.00  \n",
       "50%     125.50  33.20         0.45  27.00          0.00  \n",
       "75%     190.00  37.10         0.69  36.00          1.00  \n",
       "max     846.00  67.10         2.42  81.00          1.00  "
      ]
     },
     "metadata": {},
     "output_type": "display_data"
    }
   ],
   "source": [
    "X_columns = ['Number of pregnancies', 'Glucose', 'Blood Pressure', 'Skin thickness', 'Insulin', 'BMI', 'Inheritance', 'Age']\n",
    "y_column = 'Has Diabetes'\n",
    "\n",
    "# For all columns except 'Number of pregnanices' 0 indicates a missing value\n",
    "na_values = {col: 0 for col in X_columns if col != 'Number of pregnancies'}\n",
    "data = pd.read_csv('data.csv', names=[*X_columns, y_column], na_values=na_values)\n",
    "\n",
    "# Dropping all missing values (for simplicity)\n",
    "data = data.dropna()\n",
    "X = data.iloc[:, 0:-1]\n",
    "y = data.iloc[:, -1]\n",
    "display(data.head())\n",
    "display(data.describe())"
   ]
  },
  {
   "cell_type": "markdown",
   "id": "de097908-79f9-490b-86fb-d834284ab5eb",
   "metadata": {},
   "source": [
    "### KNN"
   ]
  },
  {
   "cell_type": "code",
   "execution_count": 57,
   "id": "8e505ad2-cbf8-44f0-bdc9-8a7d3230b7b8",
   "metadata": {},
   "outputs": [],
   "source": [
    "from sklearn.neighbors import KNeighborsClassifier\n",
    "\n",
    "X_scaled = MinMaxScaler().fit(X).transform(X)\n",
    "X_train, X_test, y_train, y_test = train_test_split(X_scaled, y, test_size=0.2)"
   ]
  },
  {
   "cell_type": "code",
   "execution_count": 58,
   "id": "49cf4cdd-bc8f-4636-9f73-3a7a5473dcc9",
   "metadata": {},
   "outputs": [],
   "source": [
    "knn_model = KNeighborsClassifier(n_neighbors=6)\n",
    "knn_model.fit(X_train, y_train)\n",
    "y_pred_knn = knn_model.predict(X_test)"
   ]
  },
  {
   "cell_type": "markdown",
   "id": "fe33ea58-88a4-4313-8fc5-d9305d53f7ae",
   "metadata": {},
   "source": [
    "### Niave Bayes"
   ]
  },
  {
   "cell_type": "code",
   "execution_count": 59,
   "id": "9482e1ee-4424-4ba3-981e-201616862dc5",
   "metadata": {},
   "outputs": [],
   "source": [
    "from sklearn.naive_bayes import CategoricalNB\n",
    "\n",
    "def transform_to_bins(col):\n",
    "    percentiles = [25, 50, 75]\n",
    "    boundaries = np.percentile(col, percentiles)\n",
    "    return np.digitize(col, boundaries, right=True)"
   ]
  },
  {
   "cell_type": "code",
   "execution_count": 60,
   "id": "27ab45d1-3055-4696-adf0-ba4ee18b404c",
   "metadata": {},
   "outputs": [
    {
     "data": {
      "text/html": [
       "<div>\n",
       "<style scoped>\n",
       "    .dataframe tbody tr th:only-of-type {\n",
       "        vertical-align: middle;\n",
       "    }\n",
       "\n",
       "    .dataframe tbody tr th {\n",
       "        vertical-align: top;\n",
       "    }\n",
       "\n",
       "    .dataframe thead th {\n",
       "        text-align: right;\n",
       "    }\n",
       "</style>\n",
       "<table border=\"1\" class=\"dataframe\">\n",
       "  <thead>\n",
       "    <tr style=\"text-align: right;\">\n",
       "      <th></th>\n",
       "      <th>Number of pregnancies</th>\n",
       "      <th>Glucose</th>\n",
       "      <th>Blood Pressure</th>\n",
       "      <th>Skin thickness</th>\n",
       "      <th>Insulin</th>\n",
       "      <th>BMI</th>\n",
       "      <th>Inheritance</th>\n",
       "      <th>Age</th>\n",
       "    </tr>\n",
       "  </thead>\n",
       "  <tbody>\n",
       "    <tr>\n",
       "      <th>count</th>\n",
       "      <td>392.00</td>\n",
       "      <td>392.00</td>\n",
       "      <td>392.00</td>\n",
       "      <td>392.00</td>\n",
       "      <td>392.00</td>\n",
       "      <td>392.00</td>\n",
       "      <td>392.00</td>\n",
       "      <td>392.00</td>\n",
       "    </tr>\n",
       "    <tr>\n",
       "      <th>mean</th>\n",
       "      <td>1.30</td>\n",
       "      <td>1.48</td>\n",
       "      <td>1.47</td>\n",
       "      <td>1.45</td>\n",
       "      <td>1.50</td>\n",
       "      <td>1.48</td>\n",
       "      <td>1.49</td>\n",
       "      <td>1.46</td>\n",
       "    </tr>\n",
       "    <tr>\n",
       "      <th>std</th>\n",
       "      <td>1.19</td>\n",
       "      <td>1.13</td>\n",
       "      <td>1.12</td>\n",
       "      <td>1.10</td>\n",
       "      <td>1.12</td>\n",
       "      <td>1.12</td>\n",
       "      <td>1.11</td>\n",
       "      <td>1.12</td>\n",
       "    </tr>\n",
       "    <tr>\n",
       "      <th>min</th>\n",
       "      <td>0.00</td>\n",
       "      <td>0.00</td>\n",
       "      <td>0.00</td>\n",
       "      <td>0.00</td>\n",
       "      <td>0.00</td>\n",
       "      <td>0.00</td>\n",
       "      <td>0.00</td>\n",
       "      <td>0.00</td>\n",
       "    </tr>\n",
       "    <tr>\n",
       "      <th>25%</th>\n",
       "      <td>0.00</td>\n",
       "      <td>0.00</td>\n",
       "      <td>0.00</td>\n",
       "      <td>0.00</td>\n",
       "      <td>0.75</td>\n",
       "      <td>0.00</td>\n",
       "      <td>0.75</td>\n",
       "      <td>0.00</td>\n",
       "    </tr>\n",
       "    <tr>\n",
       "      <th>50%</th>\n",
       "      <td>1.00</td>\n",
       "      <td>1.00</td>\n",
       "      <td>1.00</td>\n",
       "      <td>1.00</td>\n",
       "      <td>1.50</td>\n",
       "      <td>1.00</td>\n",
       "      <td>1.50</td>\n",
       "      <td>1.00</td>\n",
       "    </tr>\n",
       "    <tr>\n",
       "      <th>75%</th>\n",
       "      <td>2.00</td>\n",
       "      <td>2.00</td>\n",
       "      <td>2.00</td>\n",
       "      <td>2.00</td>\n",
       "      <td>2.00</td>\n",
       "      <td>2.00</td>\n",
       "      <td>2.00</td>\n",
       "      <td>2.00</td>\n",
       "    </tr>\n",
       "    <tr>\n",
       "      <th>max</th>\n",
       "      <td>3.00</td>\n",
       "      <td>3.00</td>\n",
       "      <td>3.00</td>\n",
       "      <td>3.00</td>\n",
       "      <td>3.00</td>\n",
       "      <td>3.00</td>\n",
       "      <td>3.00</td>\n",
       "      <td>3.00</td>\n",
       "    </tr>\n",
       "  </tbody>\n",
       "</table>\n",
       "</div>"
      ],
      "text/plain": [
       "       Number of pregnancies  Glucose  Blood Pressure  Skin thickness  \\\n",
       "count                 392.00   392.00          392.00          392.00   \n",
       "mean                    1.30     1.48            1.47            1.45   \n",
       "std                     1.19     1.13            1.12            1.10   \n",
       "min                     0.00     0.00            0.00            0.00   \n",
       "25%                     0.00     0.00            0.00            0.00   \n",
       "50%                     1.00     1.00            1.00            1.00   \n",
       "75%                     2.00     2.00            2.00            2.00   \n",
       "max                     3.00     3.00            3.00            3.00   \n",
       "\n",
       "       Insulin    BMI  Inheritance    Age  \n",
       "count   392.00 392.00       392.00 392.00  \n",
       "mean      1.50   1.48         1.49   1.46  \n",
       "std       1.12   1.12         1.11   1.12  \n",
       "min       0.00   0.00         0.00   0.00  \n",
       "25%       0.75   0.00         0.75   0.00  \n",
       "50%       1.50   1.00         1.50   1.00  \n",
       "75%       2.00   2.00         2.00   2.00  \n",
       "max       3.00   3.00         3.00   3.00  "
      ]
     },
     "execution_count": 60,
     "metadata": {},
     "output_type": "execute_result"
    }
   ],
   "source": [
    "X_nb = X.copy(deep = True)\n",
    "\n",
    "for column in X_columns:\n",
    "    col = np.array(X_nb[column])\n",
    "    X_nb[column] = transform_to_bins(col)\n",
    "\n",
    "X_nb.describe()"
   ]
  },
  {
   "cell_type": "code",
   "execution_count": 61,
   "id": "0a774a5b-37c6-420f-a189-9a3ee5868a5c",
   "metadata": {},
   "outputs": [],
   "source": [
    "X_nb_train, X_nb_test, _, _ = train_test_split(X_nb, y, test_size=0.2)"
   ]
  },
  {
   "cell_type": "code",
   "execution_count": 62,
   "id": "4df4d0fb-d439-48a7-a6ff-aa5c7f27e32b",
   "metadata": {},
   "outputs": [],
   "source": [
    "nb_model = CategoricalNB(force_alpha=True, min_categories=4)\n",
    "nb_model.fit(X_nb_train, y_train)\n",
    "y_pred_naive_bayes = nb_model.predict(X_nb_test)"
   ]
  },
  {
   "cell_type": "markdown",
   "id": "3bceda6f-b4a1-4326-b5c4-891b55a0a09d",
   "metadata": {},
   "source": [
    "### Logistic regression"
   ]
  },
  {
   "cell_type": "code",
   "execution_count": 63,
   "id": "b184bc88-3fdb-41d8-8abb-c67af93c91fe",
   "metadata": {},
   "outputs": [],
   "source": [
    "from sklearn.linear_model import LogisticRegression\n",
    "\n",
    "logreg_model = LogisticRegression()\n",
    "logreg_model.fit(X_train, y_train)\n",
    "\n",
    "y_pred_logreg = logreg_model.predict(X_test)"
   ]
  },
  {
   "cell_type": "markdown",
   "id": "52132c54-3748-4893-84fe-908ac05fa1cc",
   "metadata": {},
   "source": [
    "## Evaluation of models"
   ]
  },
  {
   "cell_type": "code",
   "execution_count": 64,
   "id": "6c8de8cb-d440-4da5-a9e4-df35ab7e3a50",
   "metadata": {},
   "outputs": [],
   "source": [
    "from sklearn.metrics import accuracy_score, confusion_matrix, f1_score, ConfusionMatrixDisplay\n",
    "\n",
    "def display_model_evaluation(y_true, y_pred, model_name=\"\"):\n",
    "    print (f'Accuracy score is {accuracy_score(y_test, y_pred)}')\n",
    "    print (f'F1 score is {f1_score(y_test, y_pred)}')\n",
    "    print ('Confusion Matrix')\n",
    "    cm = confusion_matrix(y_true, y_pred)\n",
    "    ConfusionMatrixDisplay(cm).plot(cmap=plt.cm.Blues)"
   ]
  },
  {
   "cell_type": "markdown",
   "id": "6c3fda09-0caa-48db-aee1-febb5998690c",
   "metadata": {},
   "source": [
    "### KNN"
   ]
  },
  {
   "cell_type": "code",
   "execution_count": 65,
   "id": "6d06a3a4-60bb-42fd-9f16-103abdf20039",
   "metadata": {},
   "outputs": [
    {
     "name": "stdout",
     "output_type": "stream",
     "text": [
      "Accuracy score is 0.6835443037974683\n",
      "F1 score is 0.5614035087719298\n",
      "Confusion Matrix\n"
     ]
    },
    {
     "data": {
      "image/png": "[encoded data removed]",
      "text/plain": [
       "<Figure size 640x480 with 2 Axes>"
      ]
     },
     "metadata": {},
     "output_type": "display_data"
    }
   ],
   "source": [
    "display_model_evaluation(y_test, y_pred_knn)"
   ]
  },
  {
   "cell_type": "markdown",
   "id": "e39746e9-6b9e-4629-9f28-56c590beb16f",
   "metadata": {},
   "source": [
    "### Naive Bayes"
   ]
  },
  {
   "cell_type": "code",
   "execution_count": 66,
   "id": "8e9fa6f2-8b1d-4ce7-8117-52b42687152e",
   "metadata": {},
   "outputs": [
    {
     "name": "stdout",
     "output_type": "stream",
     "text": [
      "Accuracy score is 0.569620253164557\n",
      "F1 score is 0.15\n",
      "Confusion Matrix\n"
     ]
    },
    {
     "data": {
      "image/png": "[encoded data removed]",
      "text/plain": [
       "<Figure size 640x480 with 2 Axes>"
      ]
     },
     "metadata": {},
     "output_type": "display_data"
    }
   ],
   "source": [
    "display_model_evaluation(y_test, y_pred_naive_bayes)"
   ]
  },
  {
   "cell_type": "markdown",
   "id": "18fc0927-1169-4b16-9fff-d39b9f3b6fcc",
   "metadata": {},
   "source": [
    "### Logistic regression"
   ]
  },
  {
   "cell_type": "code",
   "execution_count": 67,
   "id": "4b222c24-f055-4d59-b4a1-d375568e4b56",
   "metadata": {},
   "outputs": [
    {
     "name": "stdout",
     "output_type": "stream",
     "text": [
      "Accuracy score is 0.7215189873417721\n",
      "F1 score is 0.6333333333333333\n",
      "Confusion Matrix\n"
     ]
    },
    {
     "data": {
      "image/png": "[encoded data removed]",
      "text/plain": [
       "<Figure size 640x480 with 2 Axes>"
      ]
     },
     "metadata": {},
     "output_type": "display_data"
    }
   ],
   "source": [
    "display_model_evaluation(y_test, y_pred_logreg)"
   ]
  }
 ],
 "metadata": {
  "kernelspec": {
   "display_name": "Python 3 (ipykernel)",
   "language": "python",
   "name": "python3"
  },
  "language_info": {
   "codemirror_mode": {
    "name": "ipython",
    "version": 3
   },
   "file_extension": ".py",
   "mimetype": "text/x-python",
   "name": "python",
   "nbconvert_exporter": "python",
   "pygments_lexer": "ipython3",
   "version": "3.10.10"
  }
 },
 "nbformat": 4,
 "nbformat_minor": 5
}
